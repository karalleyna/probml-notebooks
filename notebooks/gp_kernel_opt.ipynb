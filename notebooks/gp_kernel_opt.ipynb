{
  "cells": [
    {
      "cell_type": "markdown",
      "source": [
        "# GP kernel parameter optimization/ inference \n",
        "\n",
        "Slightly modified from \n",
        "\n",
        "https://tinygp.readthedocs.io/en/latest/tutorials/modeling.html\n",
        "\n",
        "(We simplify the code by not passing the `yerr` variable to the model, and rename the input `t` (for time) to `x`, to make it more generic.) "
      ],
      "metadata": {
        "id": "IH6cIWuxIcAi"
      },
      "id": "IH6cIWuxIcAi"
    },
    {
      "cell_type": "code",
      "execution_count": 15,
      "id": "vertical-survivor",
      "metadata": {
        "tags": [
          "hide-cell"
        ],
        "id": "vertical-survivor",
        "colab": {
          "base_uri": "https://localhost:8080/"
        },
        "outputId": "6885a8bf-3342-4253-fa9a-df1041f6e858"
      },
      "outputs": [
        {
          "output_type": "stream",
          "name": "stdout",
          "text": [
            "Requirement already satisfied: arviz in /usr/local/lib/python3.7/dist-packages (0.11.4)\n",
            "Requirement already satisfied: xarray>=0.16.1 in /usr/local/lib/python3.7/dist-packages (from arviz) (0.18.2)\n",
            "Requirement already satisfied: scipy>=0.19 in /usr/local/lib/python3.7/dist-packages (from arviz) (1.4.1)\n",
            "Requirement already satisfied: numpy>=1.12 in /usr/local/lib/python3.7/dist-packages (from arviz) (1.19.5)\n",
            "Requirement already satisfied: matplotlib>=3.0 in /usr/local/lib/python3.7/dist-packages (from arviz) (3.2.2)\n",
            "Requirement already satisfied: setuptools>=38.4 in /usr/local/lib/python3.7/dist-packages (from arviz) (57.4.0)\n",
            "Requirement already satisfied: packaging in /usr/local/lib/python3.7/dist-packages (from arviz) (21.3)\n",
            "Requirement already satisfied: pandas>=0.23 in /usr/local/lib/python3.7/dist-packages (from arviz) (1.1.5)\n",
            "Requirement already satisfied: typing-extensions<4,>=3.7.4.3 in /usr/local/lib/python3.7/dist-packages (from arviz) (3.10.0.2)\n",
            "Requirement already satisfied: netcdf4 in /usr/local/lib/python3.7/dist-packages (from arviz) (1.5.8)\n",
            "Requirement already satisfied: pyparsing!=2.0.4,!=2.1.2,!=2.1.6,>=2.0.1 in /usr/local/lib/python3.7/dist-packages (from matplotlib>=3.0->arviz) (3.0.7)\n",
            "Requirement already satisfied: cycler>=0.10 in /usr/local/lib/python3.7/dist-packages (from matplotlib>=3.0->arviz) (0.11.0)\n",
            "Requirement already satisfied: python-dateutil>=2.1 in /usr/local/lib/python3.7/dist-packages (from matplotlib>=3.0->arviz) (2.8.2)\n",
            "Requirement already satisfied: kiwisolver>=1.0.1 in /usr/local/lib/python3.7/dist-packages (from matplotlib>=3.0->arviz) (1.3.2)\n",
            "Requirement already satisfied: pytz>=2017.2 in /usr/local/lib/python3.7/dist-packages (from pandas>=0.23->arviz) (2018.9)\n",
            "Requirement already satisfied: six>=1.5 in /usr/local/lib/python3.7/dist-packages (from python-dateutil>=2.1->matplotlib>=3.0->arviz) (1.15.0)\n",
            "Requirement already satisfied: cftime in /usr/local/lib/python3.7/dist-packages (from netcdf4->arviz) (1.5.2)\n",
            "Requirement already satisfied: blackjax in /usr/local/lib/python3.7/dist-packages (0.3.0)\n",
            "Requirement already satisfied: distrax in /usr/local/lib/python3.7/dist-packages (0.1.0)\n",
            "Requirement already satisfied: chex>=0.0.7 in /usr/local/lib/python3.7/dist-packages (from distrax) (0.1.0)\n",
            "Requirement already satisfied: tensorflow-probability>=0.14.1 in /usr/local/lib/python3.7/dist-packages (from distrax) (0.15.0)\n",
            "Requirement already satisfied: jaxlib>=0.1.67 in /usr/local/lib/python3.7/dist-packages (from distrax) (0.1.76)\n",
            "Requirement already satisfied: numpy>=1.18.0 in /usr/local/lib/python3.7/dist-packages (from distrax) (1.19.5)\n",
            "Requirement already satisfied: jax<=0.2.21 in /usr/local/lib/python3.7/dist-packages (from distrax) (0.2.21)\n",
            "Requirement already satisfied: absl-py>=0.9.0 in /usr/local/lib/python3.7/dist-packages (from distrax) (1.0.0)\n",
            "Requirement already satisfied: six in /usr/local/lib/python3.7/dist-packages (from absl-py>=0.9.0->distrax) (1.15.0)\n",
            "Requirement already satisfied: toolz>=0.9.0 in /usr/local/lib/python3.7/dist-packages (from chex>=0.0.7->distrax) (0.11.2)\n",
            "Requirement already satisfied: dm-tree>=0.1.5 in /usr/local/lib/python3.7/dist-packages (from chex>=0.0.7->distrax) (0.1.6)\n",
            "Requirement already satisfied: scipy>=1.2.1 in /usr/local/lib/python3.7/dist-packages (from jax<=0.2.21->distrax) (1.4.1)\n",
            "Requirement already satisfied: opt-einsum in /usr/local/lib/python3.7/dist-packages (from jax<=0.2.21->distrax) (3.3.0)\n",
            "Requirement already satisfied: flatbuffers<3.0,>=1.12 in /usr/local/lib/python3.7/dist-packages (from jaxlib>=0.1.67->distrax) (2.0)\n",
            "Requirement already satisfied: gast>=0.3.2 in /usr/local/lib/python3.7/dist-packages (from tensorflow-probability>=0.14.1->distrax) (0.4.0)\n",
            "Requirement already satisfied: decorator in /usr/local/lib/python3.7/dist-packages (from tensorflow-probability>=0.14.1->distrax) (4.4.2)\n",
            "Requirement already satisfied: cloudpickle>=1.3 in /usr/local/lib/python3.7/dist-packages (from tensorflow-probability>=0.14.1->distrax) (1.3.0)\n"
          ]
        }
      ],
      "source": [
        "try:\n",
        "    import tinygp\n",
        "except ImportError:\n",
        "    !pip install -q tinygp\n",
        "    \n",
        "try:\n",
        "    import numpyro\n",
        "except ImportError:\n",
        "    !pip uninstall -y jax jaxlib\n",
        "    !pip install -q numpyro jax jaxlib\n",
        "\n",
        "try:\n",
        "    import arviz\n",
        "except ImportError:\n",
        "    \n",
        "    \n",
        "try:\n",
        "    import flax\n",
        "except ImportError:\n",
        "    !pip install -q flax\n",
        "    \n",
        "try:\n",
        "    import optax\n",
        "except ImportError:\n",
        "    !pip install -q optax\n",
        "\n",
        "\n",
        "!pip install -q blackjax distrax\n",
        "\n",
        "from jax.config import config\n",
        "\n",
        "config.update(\"jax_enable_x64\", True)"
      ]
    },
    {
      "cell_type": "markdown",
      "id": "arctic-compilation",
      "metadata": {
        "id": "arctic-compilation"
      },
      "source": [
        "# Data\n"
      ]
    },
    {
      "cell_type": "code",
      "execution_count": 2,
      "id": "insured-myrtle",
      "metadata": {
        "id": "insured-myrtle",
        "colab": {
          "base_uri": "https://localhost:8080/",
          "height": 295
        },
        "outputId": "9f434cad-8656-42a8-bbd1-3d95fe903264"
      },
      "outputs": [
        {
          "output_type": "display_data",
          "data": {
            "image/png": "[encoded data removed]",
            "text/plain": [
              "<Figure size 432x288 with 1 Axes>"
            ]
          },
          "metadata": {
            "needs_background": "light"
          }
        }
      ],
      "source": [
        "import numpy as np\n",
        "import matplotlib.pyplot as plt\n",
        "\n",
        "random = np.random.default_rng(42)\n",
        "\n",
        "t = np.sort(\n",
        "    np.append(\n",
        "        random.uniform(0, 3.8, 28),\n",
        "        random.uniform(5.5, 10, 18),\n",
        "    )\n",
        ")\n",
        "yerr = random.uniform(0.08, 0.22, len(t))\n",
        "y = (\n",
        "    0.2 * (t - 5)\n",
        "    + np.sin(3 * t + 0.1 * (t - 5) ** 2)\n",
        "    + yerr * random.normal(size=len(t))\n",
        ")\n",
        "\n",
        "true_t = np.linspace(0, 10, 100)\n",
        "true_y = 0.2 * (true_t - 5) + np.sin(3 * true_t + 0.1 * (true_t - 5) ** 2)\n",
        "\n",
        "x = t\n",
        "x_test = true_t\n",
        "y_test = true_y\n",
        "\n",
        "plt.plot(x_test, y_test, \"k\", lw=1.5, alpha=0.3)\n",
        "plt.errorbar(x, y, yerr=yerr, fmt=\".k\", capsize=0)\n",
        "plt.xlabel(\"x [day]\")\n",
        "plt.ylabel(\"y [ppm]\")\n",
        "plt.xlim(0, 10)\n",
        "plt.ylim(-2.5, 2.5)\n",
        "_ = plt.title(\"simulated data\")\n",
        "\n",
        "plt.savefig('gp-kernel-opt-data.pdf')"
      ]
    },
    {
      "cell_type": "markdown",
      "id": "f516ffda-dea9-44e2-bc59-11e071c7984d",
      "metadata": {
        "id": "f516ffda-dea9-44e2-bc59-11e071c7984d"
      },
      "source": [
        "\n",
        "\n",
        "# Optimizing hyper-parameters using flax & optax\n",
        "\n",
        "We  find the maximum (marginal) likelihood hyperparameters for the GP model.\n",
        "\n",
        "\n",
        "To set up our model, we define a custom `linen.Module`, and optimize it's parameters as follows:"
      ]
    },
    {
      "cell_type": "code",
      "execution_count": 3,
      "id": "7673c61b-e117-4c05-9ddf-68ea9ac6b67b",
      "metadata": {
        "id": "7673c61b-e117-4c05-9ddf-68ea9ac6b67b",
        "outputId": "6759fa31-7cf0-490c-b604-4835c908f63c",
        "colab": {
          "base_uri": "https://localhost:8080/"
        }
      },
      "outputs": [
        {
          "output_type": "stream",
          "name": "stderr",
          "text": [
            "WARNING:absl:No GPU/TPU found, falling back to CPU. (Set TF_CPP_MIN_LOG_LEVEL=0 and rerun for more info.)\n"
          ]
        }
      ],
      "source": [
        "from tinygp import kernels, GaussianProcess\n",
        "\n",
        "import jax\n",
        "import jax.numpy as jnp\n",
        "\n",
        "import flax.linen as nn\n",
        "from flax.linen.initializers import zeros\n",
        "\n",
        "import optax\n",
        "\n",
        "\n",
        "class GPModule(nn.Module):\n",
        "    @nn.compact\n",
        "    def __call__(self, x, y, t):\n",
        "        # t = test input locations\n",
        "        # Returns loss (-log p(y|x)) and predictions p(y|t)\n",
        "        mean = self.param(\"mean\", zeros, ())\n",
        "        log_jitter = self.param(\"log_jitter\", zeros, ())\n",
        "\n",
        "        log_sigma1 = self.param(\"log_sigma1\", zeros, ())\n",
        "        log_rho1 = self.param(\"log_rho1\", zeros, ())\n",
        "        log_tau = self.param(\"log_tau\", zeros, ())\n",
        "        kernel1 = (\n",
        "            jnp.exp(2 * log_sigma1)\n",
        "            * kernels.ExpSquared(jnp.exp(log_tau))\n",
        "            * kernels.Cosine(jnp.exp(log_rho1))\n",
        "        )\n",
        "\n",
        "        log_sigma2 = self.param(\"log_sigma2\", zeros, ())\n",
        "        log_rho2 = self.param(\"log_rho2\", zeros, ())\n",
        "        kernel2 = jnp.exp(2 * log_sigma2) * kernels.Matern32(jnp.exp(log_rho2))\n",
        "\n",
        "        kernel = kernel1 + kernel2\n",
        "        gp = GaussianProcess(\n",
        "            kernel, x, diag=jnp.exp(log_jitter), mean=mean\n",
        "        )\n",
        "\n",
        "        loss = -gp.condition(y)\n",
        "        pred = gp.predict(y, t)\n",
        "\n",
        "        return loss, pred\n",
        "\n",
        "\n",
        "def loss(params):\n",
        "    return model.apply(params, x, y, x_test)[0]\n",
        "\n"
      ]
    },
    {
      "cell_type": "code",
      "source": [
        "\n",
        "model = GPModule()\n",
        "params = model.init(jax.random.PRNGKey(0), x,  y, x_test)\n",
        "tx = optax.sgd(learning_rate=3e-3)\n",
        "opt_state = tx.init(params)\n",
        "loss_grad_fn = jax.jit(jax.value_and_grad(loss))\n",
        "\n",
        "losses = []\n",
        "for i in range(1001):\n",
        "    loss_val, grads = loss_grad_fn(params)\n",
        "    losses.append(loss_val)\n",
        "    updates, opt_state = tx.update(grads, opt_state)\n",
        "    params = optax.apply_updates(params, updates)\n",
        "\n",
        "plt.plot(losses)\n",
        "plt.ylabel(\"negative log likelihood\")\n",
        "_ = plt.xlabel(\"step number\")"
      ],
      "metadata": {
        "colab": {
          "base_uri": "https://localhost:8080/",
          "height": 279
        },
        "id": "ek5sy64HJ5V8",
        "outputId": "5bff0556-3e97-4d0e-9a61-8b83e5b7c126"
      },
      "id": "ek5sy64HJ5V8",
      "execution_count": 4,
      "outputs": [
        {
          "output_type": "display_data",
          "data": {
            "image/png": "[encoded data removed]",
            "text/plain": [
              "<Figure size 432x288 with 1 Axes>"
            ]
          },
          "metadata": {
            "needs_background": "light"
          }
        }
      ]
    },
    {
      "cell_type": "markdown",
      "id": "2e6777f3-4ec8-43f9-9bae-38c767bcfd64",
      "metadata": {
        "id": "2e6777f3-4ec8-43f9-9bae-38c767bcfd64"
      },
      "source": [
        "Our `Module` defined above also returns the conditional predictions, that we can compare to the true model:"
      ]
    },
    {
      "cell_type": "code",
      "execution_count": 5,
      "id": "7980ad4c-d3d7-4243-b714-8d8216a9e8f1",
      "metadata": {
        "id": "7980ad4c-d3d7-4243-b714-8d8216a9e8f1",
        "colab": {
          "base_uri": "https://localhost:8080/",
          "height": 295
        },
        "outputId": "3638fec4-9400-4238-eb06-8ef4ea4db5a5"
      },
      "outputs": [
        {
          "output_type": "display_data",
          "data": {
            "image/png": "[encoded data removed]",
            "text/plain": [
              "<Figure size 432x288 with 1 Axes>"
            ]
          },
          "metadata": {
            "needs_background": "light"
          }
        }
      ],
      "source": [
        "pred = model.apply(params, x,  y, x_test)[1]\n",
        "\n",
        "plt.plot(x_test, y_test, \"k\", lw=1.5, alpha=0.3, label=\"truth\")\n",
        "plt.errorbar(x, y, yerr=yerr, fmt=\".k\", capsize=0)\n",
        "plt.plot(x_test, pred, label=\"max likelihood model\")\n",
        "plt.xlabel(\"x [day]\")\n",
        "plt.ylabel(\"y [ppm]\")\n",
        "plt.xlim(0, 10)\n",
        "plt.ylim(-2.5, 2.5)\n",
        "plt.legend()\n",
        "_ = plt.title(\"maximum likelihood\")\n",
        "plt.savefig('gp-kernel-opt-eb.pdf')"
      ]
    },
    {
      "cell_type": "markdown",
      "id": "3e73424f-b46b-4f2e-a39f-6febc0046c32",
      "metadata": {
        "id": "3e73424f-b46b-4f2e-a39f-6febc0046c32"
      },
      "source": [
        "\n",
        "# Inferring hyper-parameters using HMC in numpyro\n",
        "\n",
        "We can compute a posterior over the kernel parameters, and hence the posterior predictive over the mean function, using HMC."
      ]
    },
    {
      "cell_type": "code",
      "execution_count": 6,
      "id": "recovered-rubber",
      "metadata": {
        "id": "recovered-rubber",
        "colab": {
          "base_uri": "https://localhost:8080/"
        },
        "outputId": "6749b1c8-1c54-42a1-e7b4-c06d2aa1ccb3"
      },
      "outputs": [
        {
          "output_type": "stream",
          "name": "stderr",
          "text": [
            "/usr/local/lib/python3.7/dist-packages/ipykernel_launcher.py:34: UserWarning: There are not enough devices to run parallel chains: expected 2 but got 1. Chains will be drawn sequentially. If you are running MCMC in CPU, consider using `numpyro.set_host_device_count(2)` at the beginning of your program. You can double-check how many devices are available in your system using `jax.local_device_count()`.\n"
          ]
        }
      ],
      "source": [
        "import numpyro\n",
        "import numpyro.distributions as dist\n",
        "from numpyro.infer import MCMC, NUTS\n",
        "\n",
        "prior_sigma = 5.0\n",
        "\n",
        "def numpyro_model(x, y, x_test_inputs): \n",
        "    mean = numpyro.sample(\"mean\", dist.Normal(0.0, prior_sigma))\n",
        "    jitter = numpyro.sample(\"jitter\", dist.HalfNormal(prior_sigma))\n",
        "\n",
        "    sigma1 = numpyro.sample(\"sigma1\", dist.HalfNormal(prior_sigma))\n",
        "    rho1 = numpyro.sample(\"rho1\", dist.HalfNormal(prior_sigma))\n",
        "    tau = numpyro.sample(\"tau\", dist.HalfNormal(prior_sigma))\n",
        "    kernel1 = sigma1 ** 2 * kernels.ExpSquared(tau) * kernels.Cosine(rho1)\n",
        "\n",
        "    sigma2 = numpyro.sample(\"sigma2\", dist.HalfNormal(prior_sigma))\n",
        "    rho2 = numpyro.sample(\"rho2\", dist.HalfNormal(prior_sigma))\n",
        "    kernel2 = sigma2 ** 2 * kernels.Matern32(rho2)\n",
        "\n",
        "    kernel = kernel1 + kernel2\n",
        "    gp = GaussianProcess(kernel, x, diag=jitter, mean=mean)\n",
        "    numpyro.sample(\"gp\", gp.numpyro_dist(), obs=y)\n",
        "\n",
        "    if y is not None:\n",
        "        numpyro.deterministic(\"pred\", gp.predict(y, x_test_inputs))\n",
        "\n",
        "\n",
        "nuts_kernel = NUTS(numpyro_model, dense_mass=True, target_accept_prob=0.9)\n",
        "mcmc = MCMC(\n",
        "    nuts_kernel,\n",
        "    num_warmup=200,\n",
        "    num_samples=500,\n",
        "    num_chains=2,\n",
        "    progress_bar=False,\n",
        ")\n",
        "rng_key = jax.random.PRNGKey(34923)"
      ]
    },
    {
      "cell_type": "code",
      "execution_count": 7,
      "id": "affected-selection",
      "metadata": {
        "id": "affected-selection",
        "colab": {
          "base_uri": "https://localhost:8080/"
        },
        "outputId": "c84cac74-7a3d-4e69-fda7-1821963be11f"
      },
      "outputs": [
        {
          "output_type": "stream",
          "name": "stdout",
          "text": [
            "CPU times: user 59.1 s, sys: 32.2 s, total: 1min 31s\n",
            "Wall time: 1min 12s\n"
          ]
        }
      ],
      "source": [
        "%%time\n",
        "mcmc.run(rng_key, x, y, x_test)\n",
        "samples = mcmc.get_samples()\n",
        "pred = samples[\"pred\"].block_until_ready()  # Blocking to get timing right"
      ]
    },
    {
      "cell_type": "markdown",
      "id": "c8e08a5e-2ffe-44ea-9998-d65273dd9c8c",
      "metadata": {
        "id": "c8e08a5e-2ffe-44ea-9998-d65273dd9c8c"
      },
      "source": [
        "Let's examine the posterior. \n",
        "For that task, let's use [`ArviZ`](https://arviz-devs.github.io):"
      ]
    },
    {
      "cell_type": "code",
      "execution_count": null,
      "id": "chubby-stanford",
      "metadata": {
        "id": "chubby-stanford"
      },
      "outputs": [],
      "source": [
        "import arviz as az\n",
        "\n",
        "data = az.from_numpyro(mcmc)\n",
        "az.summary(\n",
        "    data, var_names=[v for v in data.posterior.data_vars if v != \"pred\"]\n",
        ")"
      ]
    },
    {
      "cell_type": "markdown",
      "id": "c2f9c49e-9eea-4971-a939-7390a31368fc",
      "metadata": {
        "id": "c2f9c49e-9eea-4971-a939-7390a31368fc"
      },
      "source": [
        "And, finally we can plot our posterior inferences of the comditional process, compared to the true model:"
      ]
    },
    {
      "cell_type": "code",
      "source": [
        "def plot_posterior_inference(pred, file_name):\n",
        "  q = np.percentile(pred, [5, 50, 95], axis=0)\n",
        "  plt.fill_between(x_test, q[0], q[2], color=\"C0\", alpha=0.5, label=\"inference\")\n",
        "  plt.plot(x_test, q[1], color=\"C0\", lw=2)\n",
        "  plt.plot(x_test, y_test, \"k\", lw=1.5, alpha=0.3, label=\"truth\")\n",
        "\n",
        "  plt.errorbar(x, y, yerr=yerr, fmt=\".k\", capsize=0)\n",
        "  plt.xlabel(\"x [day]\")\n",
        "  plt.ylabel(\"y [ppm]\")\n",
        "  plt.xlim(0, 10)\n",
        "  plt.ylim(-2.5, 2.5)\n",
        "  plt.legend()\n",
        "  _ = plt.title(\"posterior inference\")\n",
        "  plt.savefig(f'{file_name}.pdf')"
      ],
      "metadata": {
        "id": "_shZ5Wem2j1z"
      },
      "id": "_shZ5Wem2j1z",
      "execution_count": 10,
      "outputs": []
    },
    {
      "cell_type": "code",
      "source": [
        "plot_posterior_inference(pred, \"gp-kernel-opt-numpyro\")"
      ],
      "metadata": {
        "colab": {
          "base_uri": "https://localhost:8080/",
          "height": 295
        },
        "id": "RGBbrkh7PANG",
        "outputId": "5cb475f1-6659-46c6-b8e8-afecdea28733"
      },
      "id": "RGBbrkh7PANG",
      "execution_count": 11,
      "outputs": [
        {
          "output_type": "display_data",
          "data": {
            "image/png": "[encoded data removed]",
            "text/plain": [
              "<Figure size 432x288 with 1 Axes>"
            ]
          },
          "metadata": {
            "needs_background": "light"
          }
        }
      ]
    },
    {
      "cell_type": "markdown",
      "source": [
        "# Inferring hyper-parameters using HMC in BlackJax"
      ],
      "metadata": {
        "id": "dJZaDOH2PVD-"
      },
      "id": "dJZaDOH2PVD-"
    },
    {
      "cell_type": "code",
      "execution_count": 17,
      "id": "c3d60b92-4ed5-403a-bd73-bb48c9055ec7",
      "metadata": {
        "id": "c3d60b92-4ed5-403a-bd73-bb48c9055ec7"
      },
      "outputs": [],
      "source": [
        "import blackjax, distrax\n",
        "from blackjax import nuts\n",
        "from blackjax import stan_warmup\n",
        "\n",
        "from jax import vmap\n",
        "from jax.random import split, PRNGKey\n",
        "\n",
        "from functools import partial\n",
        "\n",
        "import tensorflow_probability.substrates.jax.distributions as tfd"
      ]
    },
    {
      "cell_type": "code",
      "source": [
        "prior_sigma = 5.\n",
        "half_normal_dist = distrax.as_distribution(tfd.HalfNormal(prior_sigma))"
      ],
      "metadata": {
        "id": "VAqKPDDX2TfS"
      },
      "id": "VAqKPDDX2TfS",
      "execution_count": 18,
      "outputs": []
    },
    {
      "cell_type": "code",
      "source": [
        "def init_model_params(x, y, rng_key):\n",
        "    dtype = x.dtype\n",
        "    params = {}\n",
        "\n",
        "    rng_key, mean_key, jitter_key = split(rng_key, 3)\n",
        "    params[\"mean\"] = distrax.Normal(0, prior_sigma).sample(seed=mean_key, sample_shape=()).astype(dtype)\n",
        "    params[\"jitter\"] =  half_normal_dist.sample(seed=jitter_key, sample_shape=()).astype(dtype)\n",
        "    \n",
        "    rng_key, sigma1_key, rho1_key, tau_key = split(rng_key, 4)\n",
        "    params[\"sigma1\"] =  half_normal_dist.sample(seed=sigma1_key, sample_shape=()).astype(dtype)\n",
        "    params[\"rho1\"] =  half_normal_dist.sample(seed=rho1_key, sample_shape=()).astype(dtype)\n",
        "    params[\"tau\"] =  half_normal_dist.sample(seed=tau_key, sample_shape=()).astype(dtype)\n",
        "    \n",
        "    sigma2_key, rho2_key = split(rng_key)\n",
        "    params[\"sigma2\"] =  half_normal_dist.sample(seed=sigma2_key, sample_shape=()).astype(dtype)\n",
        "    params[\"rho2\"] =  half_normal_dist.sample(seed=rho2_key, sample_shape=()).astype(dtype)\n",
        "    return params"
      ],
      "metadata": {
        "id": "gbEhWLod2R1S"
      },
      "id": "gbEhWLod2R1S",
      "execution_count": 19,
      "outputs": []
    },
    {
      "cell_type": "code",
      "source": [
        "def model(params, x, y, x_test_inputs=None):\n",
        "    kernel1 = params[\"sigma1\"] ** 2 * kernels.ExpSquared(params[\"tau\"]) * kernels.Cosine(params[\"rho1\"])\n",
        "    kernel2 = params[\"sigma2\"] ** 2 * kernels.Matern32(params[\"rho2\"])\n",
        "    \n",
        "    kernel = kernel1 + kernel2\n",
        "    gp = GaussianProcess(kernel, x, diag=params[\"jitter\"], mean=params[\"mean\"])\n",
        "\n",
        "    pred = None\n",
        "    if x_test_inputs is not None:\n",
        "      pred = gp.predict(y, x_test_inputs)\n",
        "    else:\n",
        "      pred = gp.predict(y)\n",
        "    return pred, gp.condition(y)"
      ],
      "metadata": {
        "id": "qKr5YWfk2VQ3"
      },
      "id": "qKr5YWfk2VQ3",
      "execution_count": 20,
      "outputs": []
    },
    {
      "cell_type": "code",
      "source": [
        "def logprob_fn(params, x, y, model):\n",
        "    log_joint = 0\n",
        "        \n",
        "    log_joint += jnp.nan_to_num(distrax.Normal(0, prior_sigma).log_prob(params[\"mean\"]))\n",
        "    log_joint += jnp.nan_to_num(half_normal_dist.log_prob(params[\"jitter\"]))\n",
        "    log_joint += jnp.nan_to_num(half_normal_dist.log_prob(params[\"sigma1\"]))\n",
        "    log_joint += jnp.nan_to_num(half_normal_dist.log_prob(params[\"rho1\"]))\n",
        "    log_joint += jnp.nan_to_num(half_normal_dist.log_prob(params[\"tau\"]))\n",
        "    log_joint += jnp.nan_to_num(half_normal_dist.log_prob(params[\"sigma2\"]))\n",
        "    log_joint += jnp.nan_to_num(half_normal_dist.log_prob(params[\"rho2\"]))\n",
        "    \n",
        "    _, likelihood = model(params, x, y)\n",
        "    return log_joint + jnp.nan_to_num(likelihood)"
      ],
      "metadata": {
        "id": "6f9QEsE42Xub"
      },
      "id": "6f9QEsE42Xub",
      "execution_count": 21,
      "outputs": []
    },
    {
      "cell_type": "code",
      "source": [
        "def inference_loop_multiple_chains(rng_key, kernel, initial_state, num_samples, num_chains):\n",
        "    def one_step(states, rng_key):\n",
        "        keys = jax.random.split(rng_key, num_chains)\n",
        "        states, _ = jax.vmap(kernel)(keys, states)\n",
        "        return states, states\n",
        "\n",
        "    keys = jax.random.split(rng_key, num_samples)\n",
        "    _, states = jax.lax.scan(one_step, initial_state, keys)\n",
        "\n",
        "    return states"
      ],
      "metadata": {
        "id": "hv-zzmQH2aBJ"
      },
      "id": "hv-zzmQH2aBJ",
      "execution_count": 22,
      "outputs": []
    },
    {
      "cell_type": "code",
      "source": [
        "def fit_and_eval(rng_key, model, potential_fn, x, y, x_test, n_chains=1):\n",
        "    init_key, warmup_key, inference_key = split(rng_key, 3)\n",
        "\n",
        "    # initialization\n",
        "    potential = partial(potential_fn, x=x, y=y, model=model)\n",
        "    initial_position = init_model_params(x, y, init_key)\n",
        "    dummy_state = nuts.new_state(initial_position, potential)\n",
        "    initial_states = vmap(lambda _:dummy_state)(jnp.arange(n_chains))\n",
        "    kernel_generator = lambda step_size, inverse_mass_matrix: nuts.kernel(potential, step_size, inverse_mass_matrix)\n",
        "\n",
        "    # warm up\n",
        "    final_state, (step_size, inverse_mass_matrix), info = stan_warmup.run(warmup_key, kernel_generator, dummy_state, num_warmup, \n",
        "                                                                          target_acceptance_rate=target_acceptance_rate, is_mass_matrix_diagonal=False)\n",
        "\n",
        "    # inference\n",
        "    nuts_kernel = jax.jit(kernel_generator(step_size, inverse_mass_matrix))\n",
        "    states = inference_loop_multiple_chains(inference_key, nuts_kernel, initial_states, num_samples, n_chains)\n",
        "    samples = states.position\n",
        "    # evaluation\n",
        "    model = partial(model, x=x, y=y, x_test_inputs=x_test)\n",
        "    predictions, log_likelihoods = vmap(vmap(model))(samples)\n",
        "    return predictions"
      ],
      "metadata": {
        "id": "7jtm0LxW2blT"
      },
      "id": "7jtm0LxW2blT",
      "execution_count": 23,
      "outputs": []
    },
    {
      "cell_type": "code",
      "source": [
        "rng_key = jax.random.PRNGKey(34923)\n",
        "num_warmup=200\n",
        "num_samples=500\n",
        "n_chains = 2\n",
        "target_acceptance_rate = 0.9"
      ],
      "metadata": {
        "id": "rsGgsQDW2dPB"
      },
      "id": "rsGgsQDW2dPB",
      "execution_count": 24,
      "outputs": []
    },
    {
      "cell_type": "code",
      "source": [
        "%%time\n",
        "predictions = fit_and_eval(rng_key, model, logprob_fn, x, y, x_test, n_chains)"
      ],
      "metadata": {
        "id": "o8uQs5qg2fqq",
        "outputId": "76575fc0-8c6e-425d-f03d-d0609867aecd",
        "colab": {
          "base_uri": "https://localhost:8080/"
        }
      },
      "id": "o8uQs5qg2fqq",
      "execution_count": 25,
      "outputs": [
        {
          "output_type": "stream",
          "name": "stdout",
          "text": [
            "CPU times: user 2min 34s, sys: 1min 10s, total: 3min 44s\n",
            "Wall time: 2min 36s\n"
          ]
        }
      ]
    },
    {
      "cell_type": "code",
      "source": [
        "pred = predictions.reshape((n_chains * num_samples, -1))\n",
        "plot_posterior_inference(pred, \"gp-kernel-opt-blackjax\")"
      ],
      "metadata": {
        "id": "qsNdGRF03LkV",
        "outputId": "417d468e-b5df-43bf-ee6b-48d1a439bdcc",
        "colab": {
          "base_uri": "https://localhost:8080/",
          "height": 295
        }
      },
      "id": "qsNdGRF03LkV",
      "execution_count": 26,
      "outputs": [
        {
          "output_type": "display_data",
          "data": {
            "image/png": "[encoded data removed]",
            "text/plain": [
              "<Figure size 432x288 with 1 Axes>"
            ]
          },
          "metadata": {
            "needs_background": "light"
          }
        }
      ]
    },
    {
      "cell_type": "code",
      "source": [
        ""
      ],
      "metadata": {
        "id": "f2Y0jrDt3exv"
      },
      "id": "f2Y0jrDt3exv",
      "execution_count": null,
      "outputs": []
    }
  ],
  "metadata": {
    "kernelspec": {
      "display_name": "Python 3 (ipykernel)",
      "language": "python",
      "name": "python3"
    },
    "language_info": {
      "codemirror_mode": {
        "name": "ipython",
        "version": 3
      },
      "file_extension": ".py",
      "mimetype": "text/x-python",
      "name": "python",
      "nbconvert_exporter": "python",
      "pygments_lexer": "ipython3",
      "version": "3.9.9"
    },
    "colab": {
      "name": "gp-kernel-opt.ipynb",
      "provenance": [],
      "toc_visible": true
    },
    "accelerator": "GPU"
  },
  "nbformat": 4,
  "nbformat_minor": 5
}