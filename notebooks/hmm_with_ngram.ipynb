{
  "nbformat": 4,
  "nbformat_minor": 0,
  "metadata": {
    "colab": {
      "name": "hmm_with_ngram.ipynb",
      "provenance": [],
      "collapsed_sections": []
    },
    "kernelspec": {
      "name": "python3",
      "display_name": "Python 3"
    },
    "language_info": {
      "name": "python"
    },
    "widgets": {
      "application/vnd.jupyter.widget-state+json": {
        "7d64de72ea5b423e84f97e65d0a85cbd": {
          "model_module": "@jupyter-widgets/controls",
          "model_name": "HBoxModel",
          "model_module_version": "1.5.0",
          "state": {
            "_view_name": "HBoxView",
            "_dom_classes": [],
            "_model_name": "HBoxModel",
            "_view_module": "@jupyter-widgets/controls",
            "_model_module_version": "1.5.0",
            "_view_count": null,
            "_view_module_version": "1.5.0",
            "box_style": "",
            "layout": "IPY_MODEL_02b19f8b7d0646e483df6fa1a659f8a7",
            "_model_module": "@jupyter-widgets/controls",
            "children": [
              "IPY_MODEL_8ccd791fe2a540faa2ce1c199ec2d215",
              "IPY_MODEL_23dde76acea14175aa2b12e13641b720",
              "IPY_MODEL_3f1e8b2c23174d6e9ba8418d70455f3f"
            ]
          }
        },
        "02b19f8b7d0646e483df6fa1a659f8a7": {
          "model_module": "@jupyter-widgets/base",
          "model_name": "LayoutModel",
          "model_module_version": "1.2.0",
          "state": {
            "_view_name": "LayoutView",
            "grid_template_rows": null,
            "right": null,
            "justify_content": null,
            "_view_module": "@jupyter-widgets/base",
            "overflow": null,
            "_model_module_version": "1.2.0",
            "_view_count": null,
            "flex_flow": null,
            "width": null,
            "min_width": null,
            "border": null,
            "align_items": null,
            "bottom": null,
            "_model_module": "@jupyter-widgets/base",
            "top": null,
            "grid_column": null,
            "overflow_y": null,
            "overflow_x": null,
            "grid_auto_flow": null,
            "grid_area": null,
            "grid_template_columns": null,
            "flex": null,
            "_model_name": "LayoutModel",
            "justify_items": null,
            "grid_row": null,
            "max_height": null,
            "align_content": null,
            "visibility": null,
            "align_self": null,
            "height": null,
            "min_height": null,
            "padding": null,
            "grid_auto_rows": null,
            "grid_gap": null,
            "max_width": null,
            "order": null,
            "_view_module_version": "1.2.0",
            "grid_template_areas": null,
            "object_position": null,
            "object_fit": null,
            "grid_auto_columns": null,
            "margin": null,
            "display": null,
            "left": null
          }
        },
        "8ccd791fe2a540faa2ce1c199ec2d215": {
          "model_module": "@jupyter-widgets/controls",
          "model_name": "HTMLModel",
          "model_module_version": "1.5.0",
          "state": {
            "_view_name": "HTMLView",
            "style": "IPY_MODEL_a3d9f9829c6e457a81db5054faf1956c",
            "_dom_classes": [],
            "description": "",
            "_model_name": "HTMLModel",
            "placeholder": "​",
            "_view_module": "@jupyter-widgets/controls",
            "_model_module_version": "1.5.0",
            "value": "",
            "_view_count": null,
            "_view_module_version": "1.5.0",
            "description_tooltip": null,
            "_model_module": "@jupyter-widgets/controls",
            "layout": "IPY_MODEL_c55b9d55e35040e4b54dae42107a30a0"
          }
        },
        "23dde76acea14175aa2b12e13641b720": {
          "model_module": "@jupyter-widgets/controls",
          "model_name": "FloatProgressModel",
          "model_module_version": "1.5.0",
          "state": {
            "_view_name": "ProgressView",
            "style": "IPY_MODEL_cbb195fb8da84517b403bb47ecbca52b",
            "_dom_classes": [],
            "description": "",
            "_model_name": "FloatProgressModel",
            "bar_style": "success",
            "max": 561753746,
            "_view_module": "@jupyter-widgets/controls",
            "_model_module_version": "1.5.0",
            "value": 561753746,
            "_view_count": null,
            "_view_module_version": "1.5.0",
            "orientation": "horizontal",
            "min": 0,
            "description_tooltip": null,
            "_model_module": "@jupyter-widgets/controls",
            "layout": "IPY_MODEL_baa9771083ad41f187646d6a817b619d"
          }
        },
        "3f1e8b2c23174d6e9ba8418d70455f3f": {
          "model_module": "@jupyter-widgets/controls",
          "model_name": "HTMLModel",
          "model_module_version": "1.5.0",
          "state": {
            "_view_name": "HTMLView",
            "style": "IPY_MODEL_38d7ea9b985844bc9e826cab1b417b6e",
            "_dom_classes": [],
            "description": "",
            "_model_name": "HTMLModel",
            "placeholder": "​",
            "_view_module": "@jupyter-widgets/controls",
            "_model_module_version": "1.5.0",
            "value": " 561754112/? [00:08&lt;00:00, 70358542.01it/s]",
            "_view_count": null,
            "_view_module_version": "1.5.0",
            "description_tooltip": null,
            "_model_module": "@jupyter-widgets/controls",
            "layout": "IPY_MODEL_d564b76a693d46ee9a8df124d891d782"
          }
        },
        "a3d9f9829c6e457a81db5054faf1956c": {
          "model_module": "@jupyter-widgets/controls",
          "model_name": "DescriptionStyleModel",
          "model_module_version": "1.5.0",
          "state": {
            "_view_name": "StyleView",
            "_model_name": "DescriptionStyleModel",
            "description_width": "",
            "_view_module": "@jupyter-widgets/base",
            "_model_module_version": "1.5.0",
            "_view_count": null,
            "_view_module_version": "1.2.0",
            "_model_module": "@jupyter-widgets/controls"
          }
        },
        "c55b9d55e35040e4b54dae42107a30a0": {
          "model_module": "@jupyter-widgets/base",
          "model_name": "LayoutModel",
          "model_module_version": "1.2.0",
          "state": {
            "_view_name": "LayoutView",
            "grid_template_rows": null,
            "right": null,
            "justify_content": null,
            "_view_module": "@jupyter-widgets/base",
            "overflow": null,
            "_model_module_version": "1.2.0",
            "_view_count": null,
            "flex_flow": null,
            "width": null,
            "min_width": null,
            "border": null,
            "align_items": null,
            "bottom": null,
            "_model_module": "@jupyter-widgets/base",
            "top": null,
            "grid_column": null,
            "overflow_y": null,
            "overflow_x": null,
            "grid_auto_flow": null,
            "grid_area": null,
            "grid_template_columns": null,
            "flex": null,
            "_model_name": "LayoutModel",
            "justify_items": null,
            "grid_row": null,
            "max_height": null,
            "align_content": null,
            "visibility": null,
            "align_self": null,
            "height": null,
            "min_height": null,
            "padding": null,
            "grid_auto_rows": null,
            "grid_gap": null,
            "max_width": null,
            "order": null,
            "_view_module_version": "1.2.0",
            "grid_template_areas": null,
            "object_position": null,
            "object_fit": null,
            "grid_auto_columns": null,
            "margin": null,
            "display": null,
            "left": null
          }
        },
        "cbb195fb8da84517b403bb47ecbca52b": {
          "model_module": "@jupyter-widgets/controls",
          "model_name": "ProgressStyleModel",
          "model_module_version": "1.5.0",
          "state": {
            "_view_name": "StyleView",
            "_model_name": "ProgressStyleModel",
            "description_width": "",
            "_view_module": "@jupyter-widgets/base",
            "_model_module_version": "1.5.0",
            "_view_count": null,
            "_view_module_version": "1.2.0",
            "bar_color": null,
            "_model_module": "@jupyter-widgets/controls"
          }
        },
        "baa9771083ad41f187646d6a817b619d": {
          "model_module": "@jupyter-widgets/base",
          "model_name": "LayoutModel",
          "model_module_version": "1.2.0",
          "state": {
            "_view_name": "LayoutView",
            "grid_template_rows": null,
            "right": null,
            "justify_content": null,
            "_view_module": "@jupyter-widgets/base",
            "overflow": null,
            "_model_module_version": "1.2.0",
            "_view_count": null,
            "flex_flow": null,
            "width": null,
            "min_width": null,
            "border": null,
            "align_items": null,
            "bottom": null,
            "_model_module": "@jupyter-widgets/base",
            "top": null,
            "grid_column": null,
            "overflow_y": null,
            "overflow_x": null,
            "grid_auto_flow": null,
            "grid_area": null,
            "grid_template_columns": null,
            "flex": null,
            "_model_name": "LayoutModel",
            "justify_items": null,
            "grid_row": null,
            "max_height": null,
            "align_content": null,
            "visibility": null,
            "align_self": null,
            "height": null,
            "min_height": null,
            "padding": null,
            "grid_auto_rows": null,
            "grid_gap": null,
            "max_width": null,
            "order": null,
            "_view_module_version": "1.2.0",
            "grid_template_areas": null,
            "object_position": null,
            "object_fit": null,
            "grid_auto_columns": null,
            "margin": null,
            "display": null,
            "left": null
          }
        },
        "38d7ea9b985844bc9e826cab1b417b6e": {
          "model_module": "@jupyter-widgets/controls",
          "model_name": "DescriptionStyleModel",
          "model_module_version": "1.5.0",
          "state": {
            "_view_name": "StyleView",
            "_model_name": "DescriptionStyleModel",
            "description_width": "",
            "_view_module": "@jupyter-widgets/base",
            "_model_module_version": "1.5.0",
            "_view_count": null,
            "_view_module_version": "1.2.0",
            "_model_module": "@jupyter-widgets/controls"
          }
        },
        "d564b76a693d46ee9a8df124d891d782": {
          "model_module": "@jupyter-widgets/base",
          "model_name": "LayoutModel",
          "model_module_version": "1.2.0",
          "state": {
            "_view_name": "LayoutView",
            "grid_template_rows": null,
            "right": null,
            "justify_content": null,
            "_view_module": "@jupyter-widgets/base",
            "overflow": null,
            "_model_module_version": "1.2.0",
            "_view_count": null,
            "flex_flow": null,
            "width": null,
            "min_width": null,
            "border": null,
            "align_items": null,
            "bottom": null,
            "_model_module": "@jupyter-widgets/base",
            "top": null,
            "grid_column": null,
            "overflow_y": null,
            "overflow_x": null,
            "grid_auto_flow": null,
            "grid_area": null,
            "grid_template_columns": null,
            "flex": null,
            "_model_name": "LayoutModel",
            "justify_items": null,
            "grid_row": null,
            "max_height": null,
            "align_content": null,
            "visibility": null,
            "align_self": null,
            "height": null,
            "min_height": null,
            "padding": null,
            "grid_auto_rows": null,
            "grid_gap": null,
            "max_width": null,
            "order": null,
            "_view_module_version": "1.2.0",
            "grid_template_areas": null,
            "object_position": null,
            "object_fit": null,
            "grid_auto_columns": null,
            "margin": null,
            "display": null,
            "left": null
          }
        }
      }
    }
  },
  "cells": [
    {
      "cell_type": "markdown",
      "metadata": {
        "id": "FTk3FQHnwtqS"
      },
      "source": [
        "## Setup"
      ]
    },
    {
      "cell_type": "code",
      "metadata": {
        "colab": {
          "base_uri": "https://localhost:8080/"
        },
        "id": "Qb4IIXge05EV",
        "outputId": "5664ccb7-62e8-448e-b6e4-c34e29e88a00"
      },
      "source": [
        "!pip install nltk\n",
        "!pip install distrax"
      ],
      "execution_count": 1,
      "outputs": [
        {
          "output_type": "stream",
          "name": "stdout",
          "text": [
            "Requirement already satisfied: nltk in /usr/local/lib/python3.7/dist-packages (3.2.5)\n",
            "Requirement already satisfied: six in /usr/local/lib/python3.7/dist-packages (from nltk) (1.15.0)\n",
            "Collecting distrax\n",
            "  Downloading distrax-0.0.2-py3-none-any.whl (208 kB)\n",
            "\u001b[K     |████████████████████████████████| 208 kB 28.5 MB/s \n",
            "\u001b[?25hRequirement already satisfied: jaxlib>=0.1.67 in /usr/local/lib/python3.7/dist-packages (from distrax) (0.1.70+cuda110)\n",
            "Requirement already satisfied: jax>=0.2.13 in /usr/local/lib/python3.7/dist-packages (from distrax) (0.2.19)\n",
            "Requirement already satisfied: numpy>=1.18.0 in /usr/local/lib/python3.7/dist-packages (from distrax) (1.19.5)\n",
            "Requirement already satisfied: absl-py>=0.9.0 in /usr/local/lib/python3.7/dist-packages (from distrax) (0.12.0)\n",
            "Requirement already satisfied: tensorflow-probability>=0.13.0rc0 in /usr/local/lib/python3.7/dist-packages (from distrax) (0.13.0)\n",
            "Collecting chex>=0.0.7\n",
            "  Downloading chex-0.0.8-py3-none-any.whl (57 kB)\n",
            "\u001b[K     |████████████████████████████████| 57 kB 5.8 MB/s \n",
            "\u001b[?25hRequirement already satisfied: six in /usr/local/lib/python3.7/dist-packages (from absl-py>=0.9.0->distrax) (1.15.0)\n",
            "Requirement already satisfied: dm-tree>=0.1.5 in /usr/local/lib/python3.7/dist-packages (from chex>=0.0.7->distrax) (0.1.6)\n",
            "Requirement already satisfied: toolz>=0.9.0 in /usr/local/lib/python3.7/dist-packages (from chex>=0.0.7->distrax) (0.11.1)\n",
            "Requirement already satisfied: opt-einsum in /usr/local/lib/python3.7/dist-packages (from jax>=0.2.13->distrax) (3.3.0)\n",
            "Requirement already satisfied: flatbuffers<3.0,>=1.12 in /usr/local/lib/python3.7/dist-packages (from jaxlib>=0.1.67->distrax) (1.12)\n",
            "Requirement already satisfied: scipy in /usr/local/lib/python3.7/dist-packages (from jaxlib>=0.1.67->distrax) (1.4.1)\n",
            "Requirement already satisfied: decorator in /usr/local/lib/python3.7/dist-packages (from tensorflow-probability>=0.13.0rc0->distrax) (4.4.2)\n",
            "Requirement already satisfied: cloudpickle>=1.3 in /usr/local/lib/python3.7/dist-packages (from tensorflow-probability>=0.13.0rc0->distrax) (1.3.0)\n",
            "Requirement already satisfied: gast>=0.3.2 in /usr/local/lib/python3.7/dist-packages (from tensorflow-probability>=0.13.0rc0->distrax) (0.4.0)\n",
            "Installing collected packages: chex, distrax\n",
            "Successfully installed chex-0.0.8 distrax-0.0.2\n"
          ]
        }
      ]
    },
    {
      "cell_type": "code",
      "metadata": {
        "id": "PfL2-4k9bNH7",
        "colab": {
          "base_uri": "https://localhost:8080/"
        },
        "outputId": "293402ca-d64d-4d7c-ba34-cec4265c1cd2"
      },
      "source": [
        "!git clone https://github.com/probml/pyprobml /pyprobml &> /dev/null\n",
        "!curl -o bible.txt https://raw.githubusercontent.com/probml/probml-data/main/data/bible.txt\n",
        "%cd -q /pyprobml/scripts"
      ],
      "execution_count": 2,
      "outputs": [
        {
          "output_type": "stream",
          "name": "stdout",
          "text": [
            "  % Total    % Received % Xferd  Average Speed   Time    Time     Time  Current\n",
            "                                 Dload  Upload   Total   Spent    Left  Speed\n",
            "\r  0     0    0     0    0     0      0      0 --:--:-- --:--:-- --:--:--     0\r100 4230k  100 4230k    0     0  91.8M      0 --:--:-- --:--:-- --:--:-- 91.8M\n"
          ]
        }
      ]
    },
    {
      "cell_type": "code",
      "metadata": {
        "colab": {
          "base_uri": "https://localhost:8080/"
        },
        "id": "_wuzxMB_c3jn",
        "outputId": "3d6542e7-9905-418b-ca53-eff794510762"
      },
      "source": [
        "!pip install superimport"
      ],
      "execution_count": 3,
      "outputs": [
        {
          "output_type": "stream",
          "name": "stdout",
          "text": [
            "Collecting superimport\n",
            "  Downloading superimport-0.3.3.tar.gz (5.8 kB)\n",
            "Requirement already satisfied: requests in /usr/local/lib/python3.7/dist-packages (from superimport) (2.23.0)\n",
            "Requirement already satisfied: chardet<4,>=3.0.2 in /usr/local/lib/python3.7/dist-packages (from requests->superimport) (3.0.4)\n",
            "Requirement already satisfied: idna<3,>=2.5 in /usr/local/lib/python3.7/dist-packages (from requests->superimport) (2.10)\n",
            "Requirement already satisfied: urllib3!=1.25.0,!=1.25.1,<1.26,>=1.21.1 in /usr/local/lib/python3.7/dist-packages (from requests->superimport) (1.24.3)\n",
            "Requirement already satisfied: certifi>=2017.4.17 in /usr/local/lib/python3.7/dist-packages (from requests->superimport) (2021.5.30)\n",
            "Building wheels for collected packages: superimport\n",
            "  Building wheel for superimport (setup.py) ... \u001b[?25l\u001b[?25hdone\n",
            "  Created wheel for superimport: filename=superimport-0.3.3-py3-none-any.whl size=5766 sha256=9be0c5bd84ba998583f88924fad11038d1554d9ac9e9a6b156a00eaeea62ca7e\n",
            "  Stored in directory: /root/.cache/pip/wheels/0f/0a/7e/ba2303ac54e68950f97db02ebf09ee4ef5c794e1adb656cb68\n",
            "Successfully built superimport\n",
            "Installing collected packages: superimport\n",
            "Successfully installed superimport-0.3.3\n"
          ]
        }
      ]
    },
    {
      "cell_type": "code",
      "metadata": {
        "id": "6gv1jZO7d7_T"
      },
      "source": [
        "from conditional_bernoulli_mix_lib import ClassConditionalBMM\n",
        "from conditional_bernoulli_mix_utils import fake_test_data, encode, decode, get_decoded_samples, get_emnist_images_per_class\n",
        "from noisy_spelling_hmm import Word\n",
        "from distrax import HMM\n",
        "\n",
        "from nltk.util import ngrams\n",
        "from nltk import FreqDist, LidstoneProbDist\n",
        "\n",
        "import numpy as np\n",
        "\n",
        "import re\n",
        "import string\n",
        "from collections import defaultdict\n",
        "from dataclasses import dataclass\n",
        "\n",
        "from jax import vmap\n",
        "import jax.numpy as jnp\n",
        "import jax\n",
        "from jax.random import PRNGKey, split\n",
        "import distrax\n",
        "\n",
        "import numpy as np\n",
        "from matplotlib import pyplot as plt"
      ],
      "execution_count": 4,
      "outputs": []
    },
    {
      "cell_type": "markdown",
      "metadata": {
        "id": "mj_1NJnY1tjj"
      },
      "source": [
        "## ClassConditionalBMM"
      ]
    },
    {
      "cell_type": "code",
      "metadata": {
        "colab": {
          "base_uri": "https://localhost:8080/",
          "height": 157,
          "referenced_widgets": [
            "7d64de72ea5b423e84f97e65d0a85cbd",
            "02b19f8b7d0646e483df6fa1a659f8a7",
            "8ccd791fe2a540faa2ce1c199ec2d215",
            "23dde76acea14175aa2b12e13641b720",
            "3f1e8b2c23174d6e9ba8418d70455f3f",
            "a3d9f9829c6e457a81db5054faf1956c",
            "c55b9d55e35040e4b54dae42107a30a0",
            "cbb195fb8da84517b403bb47ecbca52b",
            "baa9771083ad41f187646d6a817b619d",
            "38d7ea9b985844bc9e826cab1b417b6e",
            "d564b76a693d46ee9a8df124d891d782"
          ]
        },
        "id": "VFlP1MTjde5R",
        "outputId": "dcd9d330-21af-4508-9a52-4075641baae5"
      },
      "source": [
        "select_n = 25\n",
        "dataset, targets = get_emnist_images_per_class(select_n)\n",
        "dataset, targets = jnp.array(dataset), jnp.array(targets)"
      ],
      "execution_count": 5,
      "outputs": [
        {
          "output_type": "stream",
          "name": "stdout",
          "text": [
            "Downloading https://www.itl.nist.gov/iaui/vip/cs_links/EMNIST/gzip.zip to ./EMNIST/raw/gzip.zip\n"
          ]
        },
        {
          "output_type": "display_data",
          "data": {
            "application/vnd.jupyter.widget-view+json": {
              "model_id": "7d64de72ea5b423e84f97e65d0a85cbd",
              "version_minor": 0,
              "version_major": 2
            },
            "text/plain": [
              "  0%|          | 0/561753746 [00:00<?, ?it/s]"
            ]
          },
          "metadata": {}
        },
        {
          "output_type": "stream",
          "name": "stdout",
          "text": [
            "Extracting ./EMNIST/raw/gzip.zip to ./EMNIST/raw\n"
          ]
        },
        {
          "output_type": "stream",
          "name": "stderr",
          "text": [
            "/usr/local/lib/python3.7/dist-packages/torchvision/datasets/mnist.py:498: UserWarning: The given NumPy array is not writeable, and PyTorch does not support non-writeable tensors. This means you can write to the underlying (supposedly non-writeable) NumPy array using the tensor. You may want to copy the array to protect its data or make it writeable before converting it to a tensor. This type of warning will be suppressed for the rest of this program. (Triggered internally at  /pytorch/torch/csrc/utils/tensor_numpy.cpp:180.)\n",
            "  return torch.from_numpy(parsed.astype(m[2], copy=False)).view(*s)\n",
            "WARNING:absl:No GPU/TPU found, falling back to CPU. (Set TF_CPP_MIN_LOG_LEVEL=0 and rerun for more info.)\n"
          ]
        }
      ]
    },
    {
      "cell_type": "code",
      "metadata": {
        "id": "0jtZwZAKaeXR"
      },
      "source": [
        "'''\n",
        "During preprocessing of the text data, we removed punctuation whereas\n",
        "case folding is not applied. The text data only contains\n",
        "upper and lower case letters and hence there are 52 different characters\n",
        "in total.\n",
        "'''\n",
        "n_char = 2*26"
      ],
      "execution_count": 6,
      "outputs": []
    },
    {
      "cell_type": "code",
      "metadata": {
        "id": "vyQBGTrseHIn"
      },
      "source": [
        "def get_bmm(n_mix, dataset, targets):\n",
        "\n",
        "    mixing_coeffs = jnp.array(np.full((n_char, n_mix), 1. / n_mix))\n",
        "\n",
        "    p_min, p_max = 0.4, 0.6\n",
        "    n_pixels = 28 * 28\n",
        "    probs = jnp.array(np.random.uniform(p_min, p_max, (n_char, n_mix, n_pixels)))\n",
        "\n",
        "    class_priors = jnp.eye(n_char)\n",
        "\n",
        "    class_cond_bmm = ClassConditionalBMM(mixing_coeffs=mixing_coeffs, probs=probs, class_priors=class_priors, n_char=n_char)\n",
        "    _ = class_cond_bmm.fit_em(dataset, targets, 8)\n",
        "    return class_cond_bmm.model"
      ],
      "execution_count": 7,
      "outputs": []
    },
    {
      "cell_type": "markdown",
      "metadata": {
        "id": "1S34AuHt2B7H"
      },
      "source": [
        "## Bigram"
      ]
    },
    {
      "cell_type": "code",
      "metadata": {
        "id": "EhzypW-Vac8x"
      },
      "source": [
        "@dataclass\n",
        "class NGram:\n",
        "    freq_dist: FreqDist\n",
        "    prob_dists: defaultdict\n",
        "    N : int\n",
        "\n",
        "def preprocessing(text, case_folding=False):\n",
        "    preprocessed_text = text.lower() if case_folding else text\n",
        "    preprocessed_text = re.sub(r'\\d+', '', preprocessed_text)\n",
        "    preprocessed_text = preprocessed_text.translate(str.maketrans('', '', string.punctuation + \"’↵·\"))\n",
        "    preprocessed_text = re.sub(r'\\s+', ' ', preprocessed_text)\n",
        "    return preprocessed_text\n",
        "\n",
        "def read_file(filepath):\n",
        "    f = open(filepath,'r')\n",
        "    text = f.read()\n",
        "    return text\n",
        "\n",
        "def ngram_model_fit(n, data, smoothing=1):\n",
        "    n_grams = ngrams(data, n)\n",
        "    ngram_fd = FreqDist(n_grams)\n",
        "    probs_dists = get_probs_dist(ngram_fd, smoothing)\n",
        "    model = NGram(ngram_fd, probs_dists, n)\n",
        "    return model\n",
        "\n",
        "def get_probs_dist(freq_dist, smoothing=1):\n",
        "    freq_dists = defaultdict(FreqDist)\n",
        "    for ngram, freq in freq_dist.items():\n",
        "        *prefix, cur = ngram\n",
        "\n",
        "        key = ''.join(prefix)\n",
        "        count = freq_dists[key][cur]\n",
        "        count += 1\n",
        "        freq_dists[key].update({cur:freq_dist[ngram]})\n",
        "\n",
        "    probs_dist = defaultdict(LidstoneProbDist)\n",
        "    for prefix, fd in freq_dists.items():\n",
        "        probs_dist[prefix] = LidstoneProbDist(fd, gamma=smoothing)\n",
        "\n",
        "    return probs_dist\n",
        "\n",
        "def ngram_model_sample(model, text_length, prefix, seed=0):\n",
        "    assert len(prefix) >= model.N-1\n",
        "    np.random.seed(seed)\n",
        "    text = prefix\n",
        "    for _ in range(text_length):\n",
        "        cur_prefix = text[-1 * model.N + 1:]\n",
        "        if cur_prefix not in model.prob_dists:\n",
        "            return text\n",
        "        new_char = model.prob_dists[cur_prefix].generate()\n",
        "        text = text + new_char\n",
        "    return text\n",
        "\n",
        "def ngram_loglikelihood(model, seq):\n",
        "    assert len(seq) >= model.N-1\n",
        "\n",
        "    prefix = seq[:model.N-1]\n",
        "    if prefix not in model.prob_dists:\n",
        "        return float(\"-inf\")\n",
        "    ll = np.log(model.prob_dists[prefix].freqdist().N() / model.freq_dist.N())\n",
        "\n",
        "    for i in range(model.N-1, len(seq)):\n",
        "        prev = seq[i-model.N+1: i]\n",
        "        cur = seq[i]\n",
        "\n",
        "        if prev not in model.prob_dists:\n",
        "            return float(\"-inf\")\n",
        "\n",
        "        ll += model.prob_dists[prev].logprob(cur)\n",
        "\n",
        "    return ll"
      ],
      "execution_count": 8,
      "outputs": []
    },
    {
      "cell_type": "markdown",
      "metadata": {
        "id": "5Gjdsb8gyaPo"
      },
      "source": [
        "## HMM"
      ]
    },
    {
      "cell_type": "code",
      "metadata": {
        "id": "d95bBV9syWt1"
      },
      "source": [
        "def get_transition_probs(bigram):\n",
        "    probs = np.zeros((52, 52))\n",
        "    for prev, pd in bigram.prob_dists.items():\n",
        "      if prev==\" \":\n",
        "        continue\n",
        "      lowercase = prev.islower()\n",
        "      i = lowercase * 26 +  (ord(prev.lower()) - 97)\n",
        "      for cur in pd.samples():\n",
        "        if cur==\" \":\n",
        "          continue\n",
        "        lowercase = cur.islower()\n",
        "        j = lowercase * 26 + (ord(cur.lower()) - 97)\n",
        "        probs[i, j] += pd.prob(cur)\n",
        "    return probs"
      ],
      "execution_count": 9,
      "outputs": []
    },
    {
      "cell_type": "code",
      "metadata": {
        "id": "sAjvGMaBycpp"
      },
      "source": [
        "def init_hmm_from_bigram(bigram, bmm):\n",
        "    init_dist = distrax.Categorical(logits=jnp.zeros((n_char,)))\n",
        "    probs = get_transition_probs(bigram)\n",
        "    trans_dist = distrax.Categorical(probs=probs)\n",
        "    obs_dist = bmm\n",
        "    hmm = HMM(init_dist, trans_dist, obs_dist)\n",
        "    return hmm"
      ],
      "execution_count": 10,
      "outputs": []
    },
    {
      "cell_type": "markdown",
      "metadata": {
        "id": "XrtcdNllykLe"
      },
      "source": [
        "## Loading Dataset"
      ]
    },
    {
      "cell_type": "code",
      "metadata": {
        "id": "VkLgh57Ryjy0"
      },
      "source": [
        "select_n = 25\n",
        "dataset, targets = get_emnist_images_per_class(select_n)\n",
        "dataset, targets = jnp.array(dataset), jnp.array(targets)\n",
        "\n",
        "filepath = \"/content/bible.txt\"\n",
        "text = read_file(filepath)\n",
        "data = preprocessing(text, False)"
      ],
      "execution_count": 11,
      "outputs": []
    },
    {
      "cell_type": "markdown",
      "metadata": {
        "id": "-aoKlnDTysER"
      },
      "source": [
        "## Sampling Images"
      ]
    },
    {
      "cell_type": "code",
      "metadata": {
        "colab": {
          "base_uri": "https://localhost:8080/"
        },
        "id": "z9teeVPlyudQ",
        "outputId": "154efe1e-3265-441d-917d-a0dd2e7660cc"
      },
      "source": [
        "n, n_mix = 2, 30\n",
        "bigram = ngram_model_fit(n, data, smoothing=1)\n",
        "bmm = get_bmm(n_mix, dataset, targets)\n",
        "hmm = init_hmm_from_bigram(bigram, bmm)"
      ],
      "execution_count": 12,
      "outputs": [
        {
          "output_type": "stream",
          "name": "stderr",
          "text": [
            "/usr/local/lib/python3.7/dist-packages/jax/_src/numpy/lax_numpy.py:5847: UserWarning: Explicitly requested dtype <class 'jax._src.numpy.lax_numpy.int64'> requested in astype is not available, and will be truncated to dtype int32. To enable more dtypes, set the jax_enable_x64 configuration option or the JAX_ENABLE_X64 shell environment variable. See https://github.com/google/jax#current-gotchas for more.\n",
            "  lax._check_user_dtype_supported(dtype, \"astype\")\n"
          ]
        }
      ]
    },
    {
      "cell_type": "code",
      "metadata": {
        "colab": {
          "base_uri": "https://localhost:8080/"
        },
        "id": "VSb3VP3nyveA",
        "outputId": "e61ea858-cab8-4966-8f28-4b9ebc0c106d"
      },
      "source": [
        "rng_key = PRNGKey(0)\n",
        "seq_len = 6\n",
        "Z, X = hmm.sample(seed=rng_key, seq_len=seq_len)"
      ],
      "execution_count": 13,
      "outputs": [
        {
          "output_type": "stream",
          "name": "stderr",
          "text": [
            "/usr/local/lib/python3.7/dist-packages/jax/_src/numpy/lax_numpy.py:5847: UserWarning: Explicitly requested dtype <class 'jax._src.numpy.lax_numpy.int64'> requested in astype is not available, and will be truncated to dtype int32. To enable more dtypes, set the jax_enable_x64 configuration option or the JAX_ENABLE_X64 shell environment variable. See https://github.com/google/jax#current-gotchas for more.\n",
            "  lax._check_user_dtype_supported(dtype, \"astype\")\n"
          ]
        }
      ]
    },
    {
      "cell_type": "code",
      "metadata": {
        "id": "-CSmwLjP5sLJ"
      },
      "source": [
        "def plot_seq(X, seq_len, figsize):\n",
        "  fig, axes = plt.subplots(nrows=1, ncols=seq_len, figsize=figsize)\n",
        "  for x, ax in zip(X, axes.flatten()):\n",
        "      ax.imshow(x.reshape((28, 28)), cmap=\"gray\")\n",
        "  plt.tight_layout()\n",
        "  plt.show()"
      ],
      "execution_count": 14,
      "outputs": []
    },
    {
      "cell_type": "code",
      "metadata": {
        "colab": {
          "base_uri": "https://localhost:8080/",
          "height": 137
        },
        "id": "TAxZLsbCzNeC",
        "outputId": "b30da981-b0ce-4fe8-b38a-41a720a5a5a6"
      },
      "source": [
        " plot_seq(X, seq_len, (10, 8))"
      ],
      "execution_count": 15,
      "outputs": [
        {
          "output_type": "display_data",
          "data": {
            "image/png": "[encoded data removed]",
            "text/plain": [
              "<Figure size 720x576 with 6 Axes>"
            ]
          },
          "metadata": {
            "needs_background": "light"
          }
        }
      ]
    },
    {
      "cell_type": "markdown",
      "metadata": {
        "id": "tORWPVOCzpP3"
      },
      "source": [
        "## NGram"
      ]
    },
    {
      "cell_type": "code",
      "metadata": {
        "id": "8Ha9lZVvzwNO"
      },
      "source": [
        "n = 10\n",
        "n_gram = ngram_model_fit(n, data, smoothing=1)"
      ],
      "execution_count": 16,
      "outputs": []
    },
    {
      "cell_type": "code",
      "metadata": {
        "id": "n8q2vHepzouW"
      },
      "source": [
        "text_length = 11\n",
        "prefix = \"Christian\"\n",
        "Z = ngram_model_sample(n_gram, text_length, prefix)\n",
        "log_p_Z = ngram_loglikelihood(n_gram, Z)"
      ],
      "execution_count": 17,
      "outputs": []
    },
    {
      "cell_type": "code",
      "metadata": {
        "id": "01XPDM0-0OF9"
      },
      "source": [
        "def sample_img_seq_given_char_seq(bmm, z, rng_key):\n",
        "  LL = 0\n",
        "  T = len(z)\n",
        "  keys = split(rng_key, T)\n",
        "  Xs = []\n",
        "  for t, key in enumerate(keys):\n",
        "    cur_char = z[t]\n",
        "    X = jnp.zeros((784, ))\n",
        "    if cur_char!=\" \":\n",
        "      lowercase = cur_char.islower()\n",
        "      c = lowercase * 26 +  (ord(cur_char.lower()) - 97)\n",
        "      X = bmm.sample(seed=key)[c]\n",
        "      log_p_X = bmm.log_prob(X)[c]\n",
        "\n",
        "    Xs.append(X)\n",
        "    \n",
        "    LL += log_p_X\n",
        "  \n",
        "  return jnp.vstack(Xs), LL"
      ],
      "execution_count": 24,
      "outputs": []
    },
    {
      "cell_type": "code",
      "metadata": {
        "id": "Imd0e6EMz2SC"
      },
      "source": [
        "rng_key = PRNGKey(0)"
      ],
      "execution_count": 25,
      "outputs": []
    },
    {
      "cell_type": "code",
      "metadata": {
        "colab": {
          "base_uri": "https://localhost:8080/"
        },
        "id": "-ZNYwx7O03Oy",
        "outputId": "47053fe9-e12e-456a-fdd4-369d086efd76"
      },
      "source": [
        "images, LL = sample_img_seq_given_char_seq(bmm, Z, rng_key)"
      ],
      "execution_count": 26,
      "outputs": [
        {
          "output_type": "stream",
          "name": "stderr",
          "text": [
            "/usr/local/lib/python3.7/dist-packages/jax/_src/numpy/lax_numpy.py:5847: UserWarning: Explicitly requested dtype <class 'jax._src.numpy.lax_numpy.int64'> requested in astype is not available, and will be truncated to dtype int32. To enable more dtypes, set the jax_enable_x64 configuration option or the JAX_ENABLE_X64 shell environment variable. See https://github.com/google/jax#current-gotchas for more.\n",
            "  lax._check_user_dtype_supported(dtype, \"astype\")\n"
          ]
        }
      ]
    },
    {
      "cell_type": "code",
      "metadata": {
        "colab": {
          "base_uri": "https://localhost:8080/"
        },
        "id": "Yvc1XeXc13L6",
        "outputId": "5fed798b-5e60-4a95-eb98-57abd7e4e9a3"
      },
      "source": [
        "LL"
      ],
      "execution_count": 27,
      "outputs": [
        {
          "output_type": "execute_result",
          "data": {
            "text/plain": [
              "DeviceArray(-540.9882, dtype=float32)"
            ]
          },
          "metadata": {},
          "execution_count": 27
        }
      ]
    },
    {
      "cell_type": "code",
      "metadata": {
        "colab": {
          "base_uri": "https://localhost:8080/",
          "height": 35
        },
        "id": "AKXA4HNq8qYz",
        "outputId": "c7973f44-7936-41f3-ab6d-5a1d32c5636d"
      },
      "source": [
        "Z"
      ],
      "execution_count": 28,
      "outputs": [
        {
          "output_type": "execute_result",
          "data": {
            "application/vnd.google.colaboratory.intrinsic+json": {
              "type": "string"
            },
            "text/plain": [
              "'Christians first int'"
            ]
          },
          "metadata": {},
          "execution_count": 28
        }
      ]
    },
    {
      "cell_type": "code",
      "metadata": {
        "colab": {
          "base_uri": "https://localhost:8080/",
          "height": 76
        },
        "id": "5sXsgB3p2STE",
        "outputId": "ef20d27e-bafe-47f8-e01e-f21bc935d49f"
      },
      "source": [
        "plot_seq(images, text_length + len(prefix), figsize=(40, 20))"
      ],
      "execution_count": 29,
      "outputs": [
        {
          "output_type": "display_data",
          "data": {
            "image/png": "[encoded data removed]",
            "text/plain": [
              "<Figure size 2880x1440 with 20 Axes>"
            ]
          },
          "metadata": {
            "needs_background": "light"
          }
        }
      ]
    },
    {
      "cell_type": "code",
      "metadata": {
        "id": "si8W0G6U0c4o"
      },
      "source": [
        ""
      ],
      "execution_count": 23,
      "outputs": []
    }
  ]
}